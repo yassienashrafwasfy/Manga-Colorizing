{
 "cells": [
  {
   "cell_type": "code",
   "execution_count": null,
   "metadata": {
    "_cell_guid": "b1076dfc-b9ad-4769-8c92-a6c4dae69d19",
    "_uuid": "8f2839f25d086af736a60e9eeb907d3b93b6e0e5",
    "execution": {
     "iopub.execute_input": "2025-04-20T18:16:32.720427Z",
     "iopub.status.busy": "2025-04-20T18:16:32.720046Z",
     "iopub.status.idle": "2025-04-20T18:16:49.690409Z",
     "shell.execute_reply": "2025-04-20T18:16:49.689273Z",
     "shell.execute_reply.started": "2025-04-20T18:16:32.720394Z"
    },
    "id": "Wa1u4yNGhKWv",
    "trusted": true
   },
   "outputs": [],
   "source": [
    "import pandas as pd\n",
    "import matplotlib.pyplot as plt\n",
    "import random\n",
    "import cv2\n",
    "from tqdm import tqdm\n",
    "import numpy as np\n",
    "from tensorflow.keras.models import load_model\n",
    "from sklearn.model_selection import train_test_split\n",
    "from keras.models import Model,Sequential\n",
    "from keras.callbacks import ReduceLROnPlateau, ModelCheckpoint,EarlyStopping\n",
    "from tensorflow.keras import layers, models\n",
    "from tensorflow.keras.preprocessing.image import img_to_array\n",
    "from keras.layers import Conv2D, Flatten,Reshape,Dense,Input,Conv2DTranspose,LeakyReLU,Concatenate,Activation\n",
    "import tensorflow as tf\n",
    "from tensorflow.keras.optimizers import RMSprop,Adam\n",
    "from IPython.display import clear_output\n",
    "from tensorflow.keras.preprocessing import image_dataset_from_directory\n",
    "import glob\n",
    "import os\n",
    "import warnings\n",
    "\n",
    "import keras\n",
    "warnings.filterwarnings('ignore')"
   ]
  },
  {
   "cell_type": "markdown",
   "metadata": {},
   "source": [
    "# preprocessing Data"
   ]
  },
  {
   "cell_type": "code",
   "execution_count": null,
   "metadata": {
    "execution": {
     "iopub.execute_input": "2025-04-20T18:16:55.035949Z",
     "iopub.status.busy": "2025-04-20T18:16:55.035216Z",
     "iopub.status.idle": "2025-04-20T18:16:55.041829Z",
     "shell.execute_reply": "2025-04-20T18:16:55.040786Z",
     "shell.execute_reply.started": "2025-04-20T18:16:55.035907Z"
    },
    "id": "YAo6g15tb6SU",
    "trusted": true
   },
   "outputs": [],
   "source": [
    "def normalize_img_mask(img, mask):\n",
    "    img = tf.cast(img, dtype=tf.float32) / 127.5 - 1.0  # Normalize images to [-1,1]\n",
    "    mask = tf.cast(mask, dtype=tf.float32)/ 127.5 - 1.0  # Keep masks unchanged\n",
    "    return img, mask\n",
    "\n",
    "def denormalize(img):\n",
    "        return (img + 1) / 2"
   ]
  },
  {
   "cell_type": "code",
   "execution_count": null,
   "metadata": {
    "id": "Q78v5IxHhKWw",
    "outputId": "2c35394e-8bbf-4318-ac72-61f65d51ef97",
    "trusted": true
   },
   "outputs": [],
   "source": [
    "\n",
    "# Define paths\n",
    "image_path = \"/kaggle/input/unified/blackclover/colored\"\n",
    "mask_path = \"/kaggle/input/unified/blackclover/grayscale\"\n",
    "\n",
    "# Set batch size and image size\n",
    "BATCH_SIZE = 16\n",
    "IMG_SIZE = (256, 256)\n",
    "\n",
    "# Function to normalize images and masks\n",
    "\n",
    "# Load images and masks (batch early for efficiency)\n",
    "image_dataset = image_dataset_from_directory(\n",
    "    image_path,\n",
    "    label_mode=None,\n",
    "    image_size=IMG_SIZE,\n",
    "    batch_size=BATCH_SIZE,  # ✅ Batch early\n",
    "    shuffle=False\n",
    ")\n",
    "\n",
    "mask_dataset = image_dataset_from_directory(\n",
    "    mask_path,\n",
    "    label_mode=None,\n",
    "    image_size=IMG_SIZE,\n",
    "    batch_size=BATCH_SIZE,\n",
    "    shuffle=False# ✅ Batch early\n",
    ")\n",
    "\n",
    "dataset = tf.data.Dataset.zip((image_dataset, mask_dataset))\n",
    "dataset = dataset.map(normalize_img_mask, num_parallel_calls=tf.data.AUTOTUNE)\n",
    "\n",
    "train_size = int(0.9 *len(dataset))  # Assuming 500 as the total dataset size\n",
    "train_dataset = dataset.take(train_size)  # ✅ Avoid cardinality computation\n",
    "val_dataset = dataset.skip(train_size)  # ✅ Prefetch before caching for better pipeline efficiency\n",
    "train_dataset = train_dataset.prefetch(tf.data.AUTOTUNE).cache()\n",
    "val_dataset = val_dataset.prefetch(tf.data.AUTOTUNE).cache()\n"
   ]
  },
  {
   "cell_type": "code",
   "execution_count": null,
   "metadata": {
    "id": "Dte3zTPye8PE",
    "outputId": "5be1ab11-8ef3-49e4-be8d-1748cbbe5e89",
    "trusted": true
   },
   "outputs": [],
   "source": [
    "for img_batch, mask_batch in train_dataset.take(1):\n",
    "    plt.figure(figsize=(10, 5))\n",
    "    plt.subplot(1, 2, 1)\n",
    "    plt.imshow((img_batch[0] + 1) * 0.5)  # Denormalize the image\n",
    "    plt.title(\"Image\")\n",
    "    plt.axis('off')\n",
    "\n",
    "    plt.subplot(1, 2, 2)\n",
    "    plt.imshow((mask_batch[0] + 1) * 0.5)  # Denormalize the mask\n",
    "    plt.title(\"Mask\")\n",
    "    plt.axis('off')\n",
    "\n",
    "    plt.show()"
   ]
  },
  {
   "cell_type": "markdown",
   "metadata": {},
   "source": [
    "# Architecture"
   ]
  },
  {
   "cell_type": "code",
   "execution_count": null,
   "metadata": {
    "execution": {
     "iopub.execute_input": "2025-02-15T11:34:55.764680Z",
     "iopub.status.busy": "2025-02-15T11:34:55.764363Z",
     "iopub.status.idle": "2025-02-15T11:35:07.716158Z",
     "shell.execute_reply": "2025-02-15T11:35:07.715359Z",
     "shell.execute_reply.started": "2025-02-15T11:34:55.764659Z"
    },
    "id": "tMcjRGBrhKWy",
    "trusted": true
   },
   "outputs": [],
   "source": [
    "from tensorflow.keras.layers import BatchNormalization\n",
    "\n",
    "def encoder_layer(inputs, filters, kernel_size=16, strides=2, activation='leakyrelu', use_batch_norm=True):\n",
    "    conv = Conv2D(filters=filters,\n",
    "                  kernel_size=kernel_size,\n",
    "                  strides=strides,\n",
    "                  padding='same')\n",
    "    x = conv(inputs)\n",
    "    if use_batch_norm:\n",
    "        # Replaced Instance Normalization with BatchNormalization\n",
    "        x = BatchNormalization()(x)\n",
    "    if activation == 'relu':\n",
    "        x = Activation('relu')(x)\n",
    "    elif activation == 'leakyrelu':\n",
    "        x = LeakyReLU(alpha=0.2)(x)\n",
    "    return x\n",
    "\n",
    "def decoder_layer(inputs, paired_inputs, filters, kernel_size=16, strides=2, activation='leakyrelu', use_batch_norm=False):\n",
    "    conv = Conv2DTranspose(filters=filters,\n",
    "                           kernel_size=kernel_size,\n",
    "                           strides=strides,\n",
    "                           padding='same')\n",
    "    x = conv(inputs)\n",
    "    if use_batch_norm:\n",
    "        # Replaced Instance Normalization with BatchNormalization\n",
    "        x = BatchNormalization()(x)\n",
    "    if activation == 'relu':\n",
    "        x = Activation('relu')(x)\n",
    "    elif activation == 'leakyrelu':\n",
    "        x = LeakyReLU(alpha=0.2)(x)\n",
    "    # Concatenate the output with the paired inputs\n",
    "    x = Concatenate()([x, paired_inputs])\n",
    "    return x\n"
   ]
  },
  {
   "cell_type": "code",
   "execution_count": null,
   "metadata": {
    "execution": {
     "iopub.execute_input": "2025-02-02T09:02:20.472119Z",
     "iopub.status.busy": "2025-02-02T09:02:20.471812Z",
     "iopub.status.idle": "2025-02-02T09:02:20.479446Z",
     "shell.execute_reply": "2025-02-02T09:02:20.478497Z",
     "shell.execute_reply.started": "2025-02-02T09:02:20.472095Z"
    },
    "id": "Erj5wydDhKWy",
    "trusted": true
   },
   "outputs": [],
   "source": [
    "def build_generator(input_shape,output_shape=None,kernel_size=3,name=None):\n",
    "     inputs = Input(shape=input_shape)\n",
    "     channels = int(output_shape[-1])\n",
    "     e1 = encoder_layer(inputs,32,kernel_size=kernel_size,activation='leakyrelu',strides=1)\n",
    "     e2 = encoder_layer(e1,64,activation='leakyrelu',kernel_size=kernel_size)\n",
    "     e3 = encoder_layer(e2,128,activation='leakyrelu',kernel_size=kernel_size)\n",
    "     e4 = encoder_layer(e3,256,activation='leakyrelu',kernel_size=kernel_size)\n",
    "     e5 = encoder_layer(e4,512,activation='leakyrelu',kernel_size=kernel_size)\n",
    "\n",
    "     d1 = decoder_layer(e5,e4,256,kernel_size=kernel_size)\n",
    "     d2 = decoder_layer(d1,e3,128,kernel_size=kernel_size)\n",
    "     d3 = decoder_layer(d2,e2,64,kernel_size=kernel_size)\n",
    "     d4 = decoder_layer(d3,e1,32,kernel_size=kernel_size)\n",
    "     outputs = Conv2DTranspose(channels,kernel_size=kernel_size,strides=1,activation='tanh',\n",
    "     padding='same')(d4)\n",
    "     generator = Model(inputs, outputs, name=name)\n",
    "     return generator\n",
    "\n",
    "def build_discriminator(input_shape,kernel_size=3,name=None):\n",
    "    inputs = Input(shape=input_shape)\n",
    "    x = encoder_layer(inputs,32,kernel_size=kernel_size,activation='leakyrelu',instance_norm=False)\n",
    "    x = encoder_layer(x,64,kernel_size=kernel_size,activation='leakyrelu',instance_norm=False)\n",
    "    x = encoder_layer(x,128,kernel_size=kernel_size,activation='leakyrelu',instance_norm=False)\n",
    "    x = encoder_layer(x,256,kernel_size=kernel_size,strides=1,activation='leakyrelu',instance_norm=False)\n",
    "    x = Conv2D(3, kernel_size=kernel_size, strides=1, padding='same')(x)\n",
    "    discriminator = Model(inputs, x, name=name)\n",
    "    return discriminator\n",
    "\n"
   ]
  },
  {
   "cell_type": "markdown",
   "metadata": {},
   "source": [
    "# Main Class"
   ]
  },
  {
   "cell_type": "code",
   "execution_count": null,
   "metadata": {
    "execution": {
     "iopub.execute_input": "2025-02-02T09:04:05.861835Z",
     "iopub.status.busy": "2025-02-02T09:04:05.861462Z",
     "iopub.status.idle": "2025-02-02T09:04:05.875283Z",
     "shell.execute_reply": "2025-02-02T09:04:05.874353Z",
     "shell.execute_reply.started": "2025-02-02T09:04:05.861807Z"
    },
    "id": "zdOie67RgRsl",
    "trusted": true
   },
   "outputs": [],
   "source": [
    "class cycle_gan(tf.keras.Model):\n",
    "  def __init__(self, generator_t, generator_s, discriminator_t, discriminator_s):\n",
    "        super().__init__()\n",
    "        self.generator_t = generator_t\n",
    "        self.generator_s = generator_s\n",
    "        self.discriminator_t = discriminator_t\n",
    "        self.discriminator_s = discriminator_s\n",
    "  def compile(self,g_t_optimizer,g_s_optimizer,d_t_optimizer,d_s_optimizer,loss_fn):\n",
    "        super().compile()  # This works in Python 3+\n",
    "        self.g_t_optimizer = g_t_optimizer\n",
    "        self.g_s_optimizer = g_s_optimizer\n",
    "        self.d_t_optimizer = d_t_optimizer\n",
    "        self.d_s_optimizer = d_s_optimizer\n",
    "        self.loss_fn = loss_fn\n",
    "\n",
    "\n",
    "  @tf.function\n",
    "  def train_step(self,batch_data):\n",
    "      real_x, real_y = batch_data\n",
    "      # ✅ One GradientTape for Discriminators\n",
    "      with tf.GradientTape(persistent=True) as tape_d:\n",
    "          fake_y = self.generator_t(real_x, training=True)\n",
    "          fake_x = self.generator_s(real_y, training=True)\n",
    "\n",
    "          disc_real_x = self.discriminator_s(real_x, training=True)\n",
    "          disc_fake_x = self.discriminator_s(fake_x, training=True)\n",
    "          disc_real_y = self.discriminator_t(real_y, training=True)\n",
    "          disc_fake_y = self.discriminator_t(fake_y, training=True)\n",
    "\n",
    "          # Compute discriminator losses\n",
    "          disc_t_loss = loss_fn(tf.ones_like(disc_real_y), disc_real_y) + \\\n",
    "                        loss_fn(tf.zeros_like(disc_fake_y), disc_fake_y)\n",
    "          disc_s_loss = loss_fn(tf.ones_like(disc_real_x), disc_real_x) + \\\n",
    "                        loss_fn(tf.zeros_like(disc_fake_x), disc_fake_x)\n",
    "\n",
    "      # Apply gradients for both discriminators\n",
    "      grads_dt = tape_d.gradient(disc_t_loss, self.discriminator_t.trainable_variables)\n",
    "      grads_ds = tape_d.gradient(disc_s_loss, self.discriminator_s.trainable_variables)\n",
    "      self.d_t_optimizer.apply_gradients(zip(grads_dt, self.discriminator_t.trainable_variables))\n",
    "      self.d_s_optimizer.apply_gradients(zip(grads_ds,self.discriminator_s.trainable_variables))\n",
    "      del tape_d  # ✅ Free memory\n",
    "\n",
    "      # ✅ One GradientTape for Generators\n",
    "      with tf.GradientTape(persistent=True) as tape_g:\n",
    "          fake_y = self.generator_t(real_x, training=True)\n",
    "          fake_x = self.generator_s(real_y, training=True)\n",
    "\n",
    "          cycled_x = self.generator_s(fake_y, training=True)\n",
    "          cycled_y = self.generator_t(fake_x, training=True)\n",
    "\n",
    "          same_x = self.generator_s(real_x, training=True)\n",
    "          same_y = self.generator_t(real_y, training=True)\n",
    "\n",
    "          disc_fake_y = self.discriminator_t(fake_y, training=False)#previous True\n",
    "          disc_fake_x = self.discriminator_s(fake_x, training=False)#previous True\n",
    "\n",
    "          # Compute generator losses\n",
    "          g_target_loss = loss_fn(tf.ones_like(disc_fake_y), disc_fake_y)\n",
    "          g_source_loss = loss_fn(tf.ones_like(disc_fake_x), disc_fake_x)\n",
    "\n",
    "          cycle_loss_t = tf.reduce_mean(tf.abs(real_y - cycled_y)) * 10\n",
    "          cycle_loss_s = tf.reduce_mean(tf.abs(real_x - cycled_x)) * 10\n",
    "\n",
    "          id_loss_t = tf.reduce_mean(tf.abs(real_y - same_y)) * 10 * 0.5\n",
    "          id_loss_s = tf.reduce_mean(tf.abs(real_x - same_x)) * 10 * 0.5\n",
    "\n",
    "          # Total loss\n",
    "          total_loss_t = g_target_loss + cycle_loss_t + id_loss_t\n",
    "          total_loss_s = g_source_loss + cycle_loss_s + id_loss_s\n",
    "\n",
    "      # Apply gradients for both generators\n",
    "      grads_gt = tape_g.gradient(total_loss_t, self.generator_t.trainable_variables)\n",
    "      grads_gs = tape_g.gradient(total_loss_s, self.generator_s.trainable_variables)\n",
    "      self.g_t_optimizer.apply_gradients(zip(grads_gt, self.generator_t.trainable_variables))\n",
    "      self.g_s_optimizer.apply_gradients(zip(grads_gs, self.generator_s.trainable_variables))\n",
    "      del tape_g  # ✅ Free memory\n",
    "\n",
    "      return {\n",
    "        \"D_T_Loss\": disc_t_loss,\n",
    "        \"D_S_Loss\": disc_s_loss,\n",
    "        \"G_T_Loss\": total_loss_t,\n",
    "        \"G_S_Loss\": total_loss_s,\n",
    "      }\n",
    "\n"
   ]
  },
  {
   "cell_type": "code",
   "execution_count": null,
   "metadata": {
    "execution": {
     "iopub.execute_input": "2025-02-02T09:02:33.543277Z",
     "iopub.status.busy": "2025-02-02T09:02:33.542964Z",
     "iopub.status.idle": "2025-02-02T09:02:34.681236Z",
     "shell.execute_reply": "2025-02-02T09:02:34.680580Z",
     "shell.execute_reply.started": "2025-02-02T09:02:33.543255Z"
    },
    "id": "abdg2tXNi7eC",
    "trusted": true
   },
   "outputs": [],
   "source": [
    "g_t = build_generator((272,272,3),(272,272,3))\n",
    "g_s = build_generator((272,272,3),(272,272,3))\n",
    "d_t = build_discriminator((272,272,3),3)\n",
    "d_s = build_discriminator((272,272,3),3)\n",
    "cycle_gan = cycle_gan(g_t,g_s,d_t,d_s)\n"
   ]
  },
  {
   "cell_type": "markdown",
   "metadata": {},
   "source": [
    "# Loading weights to continute training "
   ]
  },
  {
   "cell_type": "code",
   "execution_count": null,
   "metadata": {
    "execution": {
     "iopub.execute_input": "2025-04-20T18:24:14.153813Z",
     "iopub.status.busy": "2025-04-20T18:24:14.153396Z",
     "iopub.status.idle": "2025-04-20T18:24:14.769072Z",
     "shell.execute_reply": "2025-04-20T18:24:14.767895Z",
     "shell.execute_reply.started": "2025-04-20T18:24:14.153780Z"
    },
    "trusted": true
   },
   "outputs": [],
   "source": [
    "g_s = tf.keras.models.load_model(\"/kaggle/input/color-weights-v1/grey to color last3 (1).h5\")\n",
    "g_t = tf.keras.models.load_model(\"/kaggle/input/color-weights-v1/colored to grey last3.h5\")\n",
    "#d_t = tf.keras.models.load_model(\")\n",
    "#d_s = tf.keras.models.load_model(\"\")\n",
    "#cycle_gan = cycle_gan(g_t,g_s,d_t,d_s)"
   ]
  },
  {
   "cell_type": "code",
   "execution_count": null,
   "metadata": {
    "execution": {
     "iopub.execute_input": "2025-02-02T09:04:18.127526Z",
     "iopub.status.busy": "2025-02-02T09:04:18.127126Z",
     "iopub.status.idle": "2025-02-02T09:04:18.155300Z",
     "shell.execute_reply": "2025-02-02T09:04:18.154600Z",
     "shell.execute_reply.started": "2025-02-02T09:04:18.127481Z"
    },
    "id": "XvuuEnfFhssA",
    "trusted": true
   },
   "outputs": [],
   "source": [
    "optimizer_dt = Adam(learning_rate=1e-4, beta_1=0.5, beta_2=0.999)  # Lower LR for D # 1e-4\n",
    "optimizer_ds = Adam(learning_rate=1e-4, beta_1=0.5, beta_2=0.999) # 1e-4\n",
    "optimizer_gt = Adam(learning_rate=2e-4, beta_1=0.5, beta_2=0.999)  # Keep G at 2e-4\n",
    "optimizer_gs = Adam(learning_rate=2e-4, beta_1=0.5, beta_2=0.999)\n",
    "loss_fn = tf.keras.losses.BinaryCrossentropy()\n",
    "cycle_gan.compile(optimizer_gt,optimizer_gs,optimizer_dt,optimizer_ds,loss_fn)"
   ]
  },
  {
   "cell_type": "markdown",
   "metadata": {},
   "source": [
    "# Train"
   ]
  },
  {
   "cell_type": "code",
   "execution_count": null,
   "metadata": {
    "execution": {
     "iopub.execute_input": "2025-02-02T10:43:38.466940Z",
     "iopub.status.busy": "2025-02-02T10:43:38.466625Z",
     "iopub.status.idle": "2025-02-02T11:40:14.983849Z",
     "shell.execute_reply": "2025-02-02T11:40:14.983113Z",
     "shell.execute_reply.started": "2025-02-02T10:43:38.466917Z"
    },
    "trusted": true
   },
   "outputs": [],
   "source": [
    "cycle_gan.fit(train_dataset,epochs=50)"
   ]
  },
  {
   "cell_type": "code",
   "execution_count": null,
   "metadata": {
    "execution": {
     "iopub.execute_input": "2025-02-02T11:40:43.022889Z",
     "iopub.status.busy": "2025-02-02T11:40:43.022595Z",
     "iopub.status.idle": "2025-02-02T11:40:43.155582Z",
     "shell.execute_reply": "2025-02-02T11:40:43.154717Z",
     "shell.execute_reply.started": "2025-02-02T11:40:43.022869Z"
    },
    "id": "MHOf6KrYhKW0",
    "outputId": "f9a54eee-0687-46e9-c6b3-534ffd616ae3",
    "trusted": true
   },
   "outputs": [],
   "source": [
    "g_s.save(\"mask to img last4.h5\")\n",
    "g_t.save(\"img to  mask.h5\")\n",
    "d_t.save(\"disc_tlast4.h5\")\n",
    "d_s.save(\"disc_s last4.h5\")"
   ]
  },
  {
   "cell_type": "code",
   "execution_count": null,
   "metadata": {
    "execution": {
     "iopub.execute_input": "2025-02-02T11:40:48.591403Z",
     "iopub.status.busy": "2025-02-02T11:40:48.591128Z",
     "iopub.status.idle": "2025-02-02T11:41:15.793048Z",
     "shell.execute_reply": "2025-02-02T11:41:15.791979Z",
     "shell.execute_reply.started": "2025-02-02T11:40:48.591382Z"
    },
    "id": "BrRGBb-1hKW1",
    "outputId": "fc87ab1f-5e99-40c3-ebf2-c4b3a75eb731",
    "trusted": true
   },
   "outputs": [],
   "source": [
    "\n",
    "def visualize_random_samples(val_dataset,g_s=None,g_t=None,num_samples=8):\n",
    "    # Loop over a small batch from the validation dataset\n",
    "    for real_x, real_y in val_dataset.take(1):\n",
    "        # Ensure we're only taking the first 'num_samples' from the batch\n",
    "        test_img, test_masked = real_x[:num_samples], real_y[:num_samples]\n",
    "\n",
    "        # Create a figure to plot the images\n",
    "        plt.figure(figsize=(20, 5 * num_samples))  # Adjust figure size for multiple samples\n",
    "\n",
    "        for i in range(num_samples):\n",
    "            # Original image\n",
    "            plt.subplot(num_samples, 4, i * 4 + 1)\n",
    "            plt.title(f'Original Image {i+1}')\n",
    "            plt.imshow(denormalize(test_img[i]))  # Denormalize if normalized to [-1, 1]\n",
    "            plt.axis('off')\n",
    "\n",
    "            # Masked image\n",
    "            plt.subplot(num_samples, 4, i * 4 + 2)\n",
    "            plt.title(f'Masked Image {i+1}')\n",
    "            plt.imshow(denormalize(test_masked[i]),cmap='gray')  # Denormalize if normalized to [-1, 1]\n",
    "            plt.axis('off')\n",
    "\n",
    "            # Reconstructed from mask to image\n",
    "            reconstructed_img = g_s.predict(test_masked[i:i+1])  # Batch input to the model\n",
    "            plt.subplot(num_samples, 4, i * 4 + 3)\n",
    "            plt.title(f'Mask → Image {i+1}')\n",
    "            plt.imshow(denormalize(reconstructed_img[0]))  # Denormalize if normalized to [-1, 1]\n",
    "            plt.axis('off')\n",
    "\n",
    "            # Reconstructed from image to mask\n",
    "            reconstructed_mask = g_t.predict(test_img[i:i+1])  # Batch input to the model\n",
    "            plt.subplot(num_samples, 4, i * 4 + 4)\n",
    "            plt.title(f'Image → Mask {i+1}')\n",
    "            plt.imshow(denormalize(reconstructed_mask[0]),cmap='gray')  # Denormalize if normalized to [-1, 1]\n",
    "            plt.axis('off')\n",
    "\n",
    "        plt.tight_layout()\n",
    "        plt.show()  # Show all plots at once\n",
    "\n",
    "# Call the visualization function\n",
    "visualize_random_samples(val_dataset,g_s,g_t,num_samples=15)  # Change num_samples as needed"
   ]
  },
  {
   "cell_type": "code",
   "execution_count": null,
   "metadata": {
    "execution": {
     "iopub.execute_input": "2025-04-20T18:25:35.890519Z",
     "iopub.status.busy": "2025-04-20T18:25:35.890094Z",
     "iopub.status.idle": "2025-04-20T18:25:36.568996Z",
     "shell.execute_reply": "2025-04-20T18:25:36.567705Z",
     "shell.execute_reply.started": "2025-04-20T18:25:35.890486Z"
    },
    "trusted": true
   },
   "outputs": [],
   "source": [
    "image_rgb = cv2.cvtColor(cv2.imread(\"/kaggle/input/img-test/black clover test.png\"), cv2.COLOR_BGR2RGB)\n",
    "image_rgb = cv2.resize(image_rgb, (272, 272))  \n",
    "image_rgb = image_rgb / 127.5 - 1.0  # Normalize to [-1, 1]\n",
    "\n",
    "# Expand dimensions to match model input shape\n",
    "image_rgb = np.expand_dims(image_rgb, axis=0)  \n",
    "\n",
    "# Predict\n",
    "output = g_t.predict(image_rgb)\n",
    "\n",
    "# Denormalize and display\n",
    "plt.subplot(1,2,1)\n",
    "plt.imshow(denormalize(image_rgb.squeeze()))\n",
    "plt.subplot(1,2,2)\n",
    "plt.imshow(denormalize(output.squeeze()))\n",
    "plt.title(\"Generated\")\n",
    "plt.show()"
   ]
  }
 ],
 "metadata": {
  "accelerator": "GPU",
  "colab": {
   "gpuType": "T4",
   "provenance": []
  },
  "kaggle": {
   "accelerator": "none",
   "dataSources": [
    {
     "datasetId": 2201606,
     "sourceId": 3678767,
     "sourceType": "datasetVersion"
    },
    {
     "datasetId": 7202707,
     "sourceId": 11490499,
     "sourceType": "datasetVersion"
    },
    {
     "datasetId": 7202729,
     "sourceId": 11490522,
     "sourceType": "datasetVersion"
    }
   ],
   "dockerImageVersionId": 30839,
   "isGpuEnabled": false,
   "isInternetEnabled": true,
   "language": "python",
   "sourceType": "notebook"
  },
  "kernelspec": {
   "display_name": "Python 3",
   "language": "python",
   "name": "python3"
  },
  "language_info": {
   "codemirror_mode": {
    "name": "ipython",
    "version": 3
   },
   "file_extension": ".py",
   "mimetype": "text/x-python",
   "name": "python",
   "nbconvert_exporter": "python",
   "pygments_lexer": "ipython3",
   "version": "3.10.12"
  },
  "widgets": {
   "application/vnd.jupyter.widget-state+json": {
    "0db0ed45eabd48f19984754d5494928b": {
     "model_module": "@jupyter-widgets/controls",
     "model_module_version": "1.5.0",
     "model_name": "DescriptionStyleModel",
     "state": {
      "_model_module": "@jupyter-widgets/controls",
      "_model_module_version": "1.5.0",
      "_model_name": "DescriptionStyleModel",
      "_view_count": null,
      "_view_module": "@jupyter-widgets/base",
      "_view_module_version": "1.2.0",
      "_view_name": "StyleView",
      "description_width": ""
     }
    },
    "1e53731796c74779832fda371b6057fc": {
     "model_module": "@jupyter-widgets/base",
     "model_module_version": "1.2.0",
     "model_name": "LayoutModel",
     "state": {
      "_model_module": "@jupyter-widgets/base",
      "_model_module_version": "1.2.0",
      "_model_name": "LayoutModel",
      "_view_count": null,
      "_view_module": "@jupyter-widgets/base",
      "_view_module_version": "1.2.0",
      "_view_name": "LayoutView",
      "align_content": null,
      "align_items": null,
      "align_self": null,
      "border": null,
      "bottom": null,
      "display": null,
      "flex": null,
      "flex_flow": null,
      "grid_area": null,
      "grid_auto_columns": null,
      "grid_auto_flow": null,
      "grid_auto_rows": null,
      "grid_column": null,
      "grid_gap": null,
      "grid_row": null,
      "grid_template_areas": null,
      "grid_template_columns": null,
      "grid_template_rows": null,
      "height": null,
      "justify_content": null,
      "justify_items": null,
      "left": null,
      "margin": null,
      "max_height": null,
      "max_width": null,
      "min_height": null,
      "min_width": null,
      "object_fit": null,
      "object_position": null,
      "order": null,
      "overflow": null,
      "overflow_x": null,
      "overflow_y": null,
      "padding": null,
      "right": null,
      "top": null,
      "visibility": null,
      "width": null
     }
    },
    "2c2b043219fd41af8e5a5e917f7520d5": {
     "model_module": "@jupyter-widgets/controls",
     "model_module_version": "1.5.0",
     "model_name": "HTMLModel",
     "state": {
      "_dom_classes": [],
      "_model_module": "@jupyter-widgets/controls",
      "_model_module_version": "1.5.0",
      "_model_name": "HTMLModel",
      "_view_count": null,
      "_view_module": "@jupyter-widgets/controls",
      "_view_module_version": "1.5.0",
      "_view_name": "HTMLView",
      "description": "",
      "description_tooltip": null,
      "layout": "IPY_MODEL_1e53731796c74779832fda371b6057fc",
      "placeholder": "​",
      "style": "IPY_MODEL_0db0ed45eabd48f19984754d5494928b",
      "value": "Epoch 1:  13%"
     }
    },
    "4aed6de3c682436d86c88bae43571c43": {
     "model_module": "@jupyter-widgets/controls",
     "model_module_version": "1.5.0",
     "model_name": "DescriptionStyleModel",
     "state": {
      "_model_module": "@jupyter-widgets/controls",
      "_model_module_version": "1.5.0",
      "_model_name": "DescriptionStyleModel",
      "_view_count": null,
      "_view_module": "@jupyter-widgets/base",
      "_view_module_version": "1.2.0",
      "_view_name": "StyleView",
      "description_width": ""
     }
    },
    "4b1ed3feff7345049c84ed6b082d9986": {
     "model_module": "@jupyter-widgets/controls",
     "model_module_version": "1.5.0",
     "model_name": "FloatProgressModel",
     "state": {
      "_dom_classes": [],
      "_model_module": "@jupyter-widgets/controls",
      "_model_module_version": "1.5.0",
      "_model_name": "FloatProgressModel",
      "_view_count": null,
      "_view_module": "@jupyter-widgets/controls",
      "_view_module_version": "1.5.0",
      "_view_name": "ProgressView",
      "bar_style": "",
      "description": "",
      "description_tooltip": null,
      "layout": "IPY_MODEL_bbcbe8e9b7fb4be5850d68af6df10e2e",
      "max": 53,
      "min": 0,
      "orientation": "horizontal",
      "style": "IPY_MODEL_94ea7ecee7674be6ae75e0eebd7a80fb",
      "value": 7
     }
    },
    "94ea7ecee7674be6ae75e0eebd7a80fb": {
     "model_module": "@jupyter-widgets/controls",
     "model_module_version": "1.5.0",
     "model_name": "ProgressStyleModel",
     "state": {
      "_model_module": "@jupyter-widgets/controls",
      "_model_module_version": "1.5.0",
      "_model_name": "ProgressStyleModel",
      "_view_count": null,
      "_view_module": "@jupyter-widgets/base",
      "_view_module_version": "1.2.0",
      "_view_name": "StyleView",
      "bar_color": null,
      "description_width": ""
     }
    },
    "a0029fa908a84b0f9f8b798a63830881": {
     "model_module": "@jupyter-widgets/controls",
     "model_module_version": "1.5.0",
     "model_name": "HBoxModel",
     "state": {
      "_dom_classes": [],
      "_model_module": "@jupyter-widgets/controls",
      "_model_module_version": "1.5.0",
      "_model_name": "HBoxModel",
      "_view_count": null,
      "_view_module": "@jupyter-widgets/controls",
      "_view_module_version": "1.5.0",
      "_view_name": "HBoxView",
      "box_style": "",
      "children": [
       "IPY_MODEL_2c2b043219fd41af8e5a5e917f7520d5",
       "IPY_MODEL_4b1ed3feff7345049c84ed6b082d9986",
       "IPY_MODEL_fbe7eef1062e445e8070df2032af60c4"
      ],
      "layout": "IPY_MODEL_b799716876d240228acfb38720e685c4"
     }
    },
    "b799716876d240228acfb38720e685c4": {
     "model_module": "@jupyter-widgets/base",
     "model_module_version": "1.2.0",
     "model_name": "LayoutModel",
     "state": {
      "_model_module": "@jupyter-widgets/base",
      "_model_module_version": "1.2.0",
      "_model_name": "LayoutModel",
      "_view_count": null,
      "_view_module": "@jupyter-widgets/base",
      "_view_module_version": "1.2.0",
      "_view_name": "LayoutView",
      "align_content": null,
      "align_items": null,
      "align_self": null,
      "border": null,
      "bottom": null,
      "display": null,
      "flex": null,
      "flex_flow": null,
      "grid_area": null,
      "grid_auto_columns": null,
      "grid_auto_flow": null,
      "grid_auto_rows": null,
      "grid_column": null,
      "grid_gap": null,
      "grid_row": null,
      "grid_template_areas": null,
      "grid_template_columns": null,
      "grid_template_rows": null,
      "height": null,
      "justify_content": null,
      "justify_items": null,
      "left": null,
      "margin": null,
      "max_height": null,
      "max_width": null,
      "min_height": null,
      "min_width": null,
      "object_fit": null,
      "object_position": null,
      "order": null,
      "overflow": null,
      "overflow_x": null,
      "overflow_y": null,
      "padding": null,
      "right": null,
      "top": null,
      "visibility": null,
      "width": null
     }
    },
    "bbcbe8e9b7fb4be5850d68af6df10e2e": {
     "model_module": "@jupyter-widgets/base",
     "model_module_version": "1.2.0",
     "model_name": "LayoutModel",
     "state": {
      "_model_module": "@jupyter-widgets/base",
      "_model_module_version": "1.2.0",
      "_model_name": "LayoutModel",
      "_view_count": null,
      "_view_module": "@jupyter-widgets/base",
      "_view_module_version": "1.2.0",
      "_view_name": "LayoutView",
      "align_content": null,
      "align_items": null,
      "align_self": null,
      "border": null,
      "bottom": null,
      "display": null,
      "flex": null,
      "flex_flow": null,
      "grid_area": null,
      "grid_auto_columns": null,
      "grid_auto_flow": null,
      "grid_auto_rows": null,
      "grid_column": null,
      "grid_gap": null,
      "grid_row": null,
      "grid_template_areas": null,
      "grid_template_columns": null,
      "grid_template_rows": null,
      "height": null,
      "justify_content": null,
      "justify_items": null,
      "left": null,
      "margin": null,
      "max_height": null,
      "max_width": null,
      "min_height": null,
      "min_width": null,
      "object_fit": null,
      "object_position": null,
      "order": null,
      "overflow": null,
      "overflow_x": null,
      "overflow_y": null,
      "padding": null,
      "right": null,
      "top": null,
      "visibility": null,
      "width": null
     }
    },
    "d43015fc6f224a6581f186bbcb28b35b": {
     "model_module": "@jupyter-widgets/base",
     "model_module_version": "1.2.0",
     "model_name": "LayoutModel",
     "state": {
      "_model_module": "@jupyter-widgets/base",
      "_model_module_version": "1.2.0",
      "_model_name": "LayoutModel",
      "_view_count": null,
      "_view_module": "@jupyter-widgets/base",
      "_view_module_version": "1.2.0",
      "_view_name": "LayoutView",
      "align_content": null,
      "align_items": null,
      "align_self": null,
      "border": null,
      "bottom": null,
      "display": null,
      "flex": null,
      "flex_flow": null,
      "grid_area": null,
      "grid_auto_columns": null,
      "grid_auto_flow": null,
      "grid_auto_rows": null,
      "grid_column": null,
      "grid_gap": null,
      "grid_row": null,
      "grid_template_areas": null,
      "grid_template_columns": null,
      "grid_template_rows": null,
      "height": null,
      "justify_content": null,
      "justify_items": null,
      "left": null,
      "margin": null,
      "max_height": null,
      "max_width": null,
      "min_height": null,
      "min_width": null,
      "object_fit": null,
      "object_position": null,
      "order": null,
      "overflow": null,
      "overflow_x": null,
      "overflow_y": null,
      "padding": null,
      "right": null,
      "top": null,
      "visibility": null,
      "width": null
     }
    },
    "fbe7eef1062e445e8070df2032af60c4": {
     "model_module": "@jupyter-widgets/controls",
     "model_module_version": "1.5.0",
     "model_name": "HTMLModel",
     "state": {
      "_dom_classes": [],
      "_model_module": "@jupyter-widgets/controls",
      "_model_module_version": "1.5.0",
      "_model_name": "HTMLModel",
      "_view_count": null,
      "_view_module": "@jupyter-widgets/controls",
      "_view_module_version": "1.5.0",
      "_view_name": "HTMLView",
      "description": "",
      "description_tooltip": null,
      "layout": "IPY_MODEL_d43015fc6f224a6581f186bbcb28b35b",
      "placeholder": "​",
      "style": "IPY_MODEL_4aed6de3c682436d86c88bae43571c43",
      "value": " 7/53 [00:17&lt;01:40,  2.19s/it, disc_s_loss=1.89, disc_t_loss=1.84, gen_s_loss=6.54, gen_t_loss=6.67]"
     }
    }
   }
  }
 },
 "nbformat": 4,
 "nbformat_minor": 4
}
